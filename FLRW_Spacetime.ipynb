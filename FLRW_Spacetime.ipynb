{
 "cells": [
  {
   "cell_type": "code",
   "execution_count": 9,
   "metadata": {
    "collapsed": true
   },
   "outputs": [],
   "source": [
    "from gravipy import *"
   ]
  },
  {
   "cell_type": "code",
   "execution_count": 10,
   "metadata": {
    "collapsed": true
   },
   "outputs": [],
   "source": [
    "init_printing(use_latex='mathjax')"
   ]
  },
  {
   "cell_type": "code",
   "execution_count": 11,
   "metadata": {
    "collapsed": true
   },
   "outputs": [],
   "source": [
    "t=symbols(\"t\")\n",
    "r=symbols(\"r\")\n",
    "theta=symbols(\"\\\\theta\")\n",
    "phi=symbols(\"\\phi\")\n",
    "x=Coordinates(\"\\chi\",[t,r,theta,phi])\n",
    "\n",
    "# a=Function('a')(t)\n",
    "a=sin(t)\n",
    "k=0"
   ]
  },
  {
   "cell_type": "code",
   "execution_count": 12,
   "metadata": {
    "collapsed": true
   },
   "outputs": [],
   "source": [
    "k=0\n",
    "Metric=diag(1,-a**2/(1-k*r**2),-a**2*r**2,-a**2*r**2 * sin(theta)**2)"
   ]
  },
  {
   "cell_type": "code",
   "execution_count": 13,
   "metadata": {
    "collapsed": true
   },
   "outputs": [],
   "source": [
    "g=MetricTensor('g',x,Metric)"
   ]
  },
  {
   "cell_type": "code",
   "execution_count": 14,
   "metadata": {},
   "outputs": [
    {
     "data": {
      "text/latex": [
       "$$\\left[\\begin{matrix}1 & 0 & 0 & 0\\\\0 & - \\sin^{2}{\\left (t \\right )} & 0 & 0\\\\0 & 0 & - r^{2} \\sin^{2}{\\left (t \\right )} & 0\\\\0 & 0 & 0 & - r^{2} \\sin^{2}{\\left (\\theta \\right )} \\sin^{2}{\\left (t \\right )}\\end{matrix}\\right]$$"
      ],
      "text/plain": [
       "⎡1     0           0                  0            ⎤\n",
       "⎢                                                  ⎥\n",
       "⎢       2                                          ⎥\n",
       "⎢0  -sin (t)       0                  0            ⎥\n",
       "⎢                                                  ⎥\n",
       "⎢               2    2                             ⎥\n",
       "⎢0     0      -r ⋅sin (t)             0            ⎥\n",
       "⎢                                                  ⎥\n",
       "⎢                            2    2            2   ⎥\n",
       "⎣0     0           0       -r ⋅sin (\\theta)⋅sin (t)⎦"
      ]
     },
     "execution_count": 14,
     "metadata": {},
     "output_type": "execute_result"
    }
   ],
   "source": [
    "g(All,All)"
   ]
  },
  {
   "cell_type": "code",
   "execution_count": 15,
   "metadata": {
    "collapsed": true
   },
   "outputs": [],
   "source": [
    "Ga=Christoffel('Ga',g)\n",
    "Ri=Ricci('Ri',g)\n",
    "Rm=Riemann('Rm',g)\n",
    "G=Einstein('G',Ri)"
   ]
  },
  {
   "cell_type": "code",
   "execution_count": 16,
   "metadata": {},
   "outputs": [
    {
     "data": {
      "text/latex": [
       "$$\\left[\\begin{matrix}\\frac{3}{\\tan^{2}{\\left (t \\right )}} & 0 & 0 & 0\\\\0 & 3 \\sin^{2}{\\left (t \\right )} - 1 & 0 & 0\\\\0 & 0 & r^{2} \\left(3 \\sin^{2}{\\left (t \\right )} - 1\\right) & 0\\\\0 & 0 & 0 & r^{2} \\left(3 \\sin^{2}{\\left (t \\right )} - 1\\right) \\sin^{2}{\\left (\\theta \\right )}\\end{matrix}\\right]$$"
      ],
      "text/plain": [
       "⎡   3                                                                       ⎤\n",
       "⎢───────        0                0                          0               ⎥\n",
       "⎢   2                                                                       ⎥\n",
       "⎢tan (t)                                                                    ⎥\n",
       "⎢                                                                           ⎥\n",
       "⎢              2                                                            ⎥\n",
       "⎢   0     3⋅sin (t) - 1          0                          0               ⎥\n",
       "⎢                                                                           ⎥\n",
       "⎢                         2 ⎛     2       ⎞                                 ⎥\n",
       "⎢   0           0        r ⋅⎝3⋅sin (t) - 1⎠                 0               ⎥\n",
       "⎢                                                                           ⎥\n",
       "⎢                                             2 ⎛     2       ⎞    2        ⎥\n",
       "⎣   0           0                0           r ⋅⎝3⋅sin (t) - 1⎠⋅sin (\\theta)⎦"
      ]
     },
     "execution_count": 16,
     "metadata": {},
     "output_type": "execute_result"
    }
   ],
   "source": [
    "G(All,All)"
   ]
  },
  {
   "cell_type": "code",
   "execution_count": null,
   "metadata": {
    "collapsed": true
   },
   "outputs": [],
   "source": []
  }
 ],
 "metadata": {
  "kernelspec": {
   "display_name": "Python 3",
   "language": "python",
   "name": "python3"
  },
  "language_info": {
   "codemirror_mode": {
    "name": "ipython",
    "version": 3
   },
   "file_extension": ".py",
   "mimetype": "text/x-python",
   "name": "python",
   "nbconvert_exporter": "python",
   "pygments_lexer": "ipython3",
   "version": "3.4.6"
  }
 },
 "nbformat": 4,
 "nbformat_minor": 1
}
